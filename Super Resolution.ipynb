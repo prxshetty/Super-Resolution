{
 "cells": [
  {
   "cell_type": "code",
   "execution_count": 6,
   "id": "e98fb0d6-9faa-4d19-8cf1-7f6638801ae3",
   "metadata": {},
   "outputs": [],
   "source": [
    "import cv2\n",
    "from cv2 import dnn_superres"
   ]
  },
  {
   "cell_type": "markdown",
   "id": "c9d2d817",
   "metadata": {},
   "source": [
    " # Upscale using EDSR 4x\n"
   ]
  },
  {
   "cell_type": "code",
   "execution_count": 10,
   "id": "1a38f6f4-71bf-4832-845a-ae794e6cd6a5",
   "metadata": {},
   "outputs": [],
   "source": [
    "# initialize super resolution object\n",
    "sr=dnn_superres.DnnSuperResImpl_create()\n",
    "\n",
    "#read pre trained model\n",
    "path='EDSR_x4.pb'\n",
    "sr.readModel(path)\n",
    "\n",
    "#setting the model and scale paramters\n",
    "sr.setModel('edsr', 4) "
   ]
  },
  {
   "cell_type": "code",
   "execution_count": null,
   "id": "8f91fd01-1be0-4943-aae7-a82af4c5c39c",
   "metadata": {},
   "outputs": [],
   "source": [
    "#only for cuda support users\n",
    "sr.setPrefereableBackend(cv2.dnn.DNN_BACKEND_CUDA)\n",
    "sr.setPrefereableTarget(cv2.dnn.DNN_TARGET_CUDA)"
   ]
  },
  {
   "cell_type": "code",
   "execution_count": 11,
   "id": "1245c85a-cf80-48c1-8294-3633fc46400f",
   "metadata": {},
   "outputs": [],
   "source": [
    "#loading the image here\n",
    "image=cv2.imread('test.png')"
   ]
  },
  {
   "cell_type": "code",
   "execution_count": 12,
   "id": "dee51732-b57c-49ff-a956-d67de1cbad11",
   "metadata": {},
   "outputs": [
    {
     "data": {
      "text/plain": [
       "True"
      ]
     },
     "execution_count": 12,
     "metadata": {},
     "output_type": "execute_result"
    }
   ],
   "source": [
    "#upsample the image\n",
    "upscaled=sr.upsample(image)\n",
    "#save the upscaled image\n",
    "cv2.imwrite('upscaled_test.png', upscaled)"
   ]
  },
  {
   "cell_type": "code",
   "execution_count": null,
   "id": "050ec56f-352c-4236-8a98-5b34066cfd81",
   "metadata": {},
   "outputs": [],
   "source": [
    "#traditional method = bicubic\n",
    "bicubic= cv2.resize(image, (upscaled.shape[1],upscaled.shape[0]),interpolation=cv2.INTER_CUBIC)\n",
    "#SAVE THE IMAGE\n",
    "cv2.imwrite('bicubic_test.png',bicubic)"
   ]
  },
  {
   "cell_type": "markdown",
   "id": "ba4d3875-8d90-4064-83f5-569d622e4ab7",
   "metadata": {},
   "source": [
    "# Upscale using LapSRN 8x "
   ]
  },
  {
   "cell_type": "code",
   "execution_count": 16,
   "id": "f888295f-ef50-44c6-846c-b9d1c19fcf22",
   "metadata": {},
   "outputs": [
    {
     "data": {
      "text/plain": [
       "True"
      ]
     },
     "execution_count": 16,
     "metadata": {},
     "output_type": "execute_result"
    }
   ],
   "source": [
    "import cv2\n",
    "from cv2 import dnn_superres\n",
    "# initialize super resolution object\n",
    "sr=dnn_superres.DnnSuperResImpl_create()\n",
    "\n",
    "#read the model\n",
    "path='LapSRN_x8.pb'\n",
    "sr.readModel(path)\n",
    "\n",
    "#setting the model and scale\n",
    "sr.setModel('lapsrn', 8) \n",
    "\n",
    "\n",
    "#loading the image here\n",
    "image=cv2.imread('test.png')\n",
    "\n",
    "#upsample the image\n",
    "upscaled=sr.upsample(image)\n",
    "#save the upscaled image\n",
    "cv2.imwrite('upscaled_test_lapSRN.png', upscaled)\n",
    "\n",
    "#traditional method = bicubic\n",
    "bicubic= cv2.resize(image, (upscaled.shape[1],upscaled.shape[0]),interpolation=cv2.INTER_CUBIC)\n",
    "#SAVE THE IMAGE\n",
    "cv2.imwrite('bicubic_test_8x.png',bicubic)"
   ]
  },
  {
   "cell_type": "code",
   "execution_count": null,
   "id": "0f1bf9ac-2db4-4b52-bcfe-74c6b730e714",
   "metadata": {},
   "outputs": [],
   "source": []
  }
 ],
 "metadata": {
  "kernelspec": {
   "display_name": "Python 3 (ipykernel)",
   "language": "python",
   "name": "python3"
  },
  "language_info": {
   "codemirror_mode": {
    "name": "ipython",
    "version": 3
   },
   "file_extension": ".py",
   "mimetype": "text/x-python",
   "name": "python",
   "nbconvert_exporter": "python",
   "pygments_lexer": "ipython3",
   "version": "3.11.6"
  }
 },
 "nbformat": 4,
 "nbformat_minor": 5
}
